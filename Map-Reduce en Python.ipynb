{
 "cells": [
  {
   "cell_type": "markdown",
   "id": "3e2f9cd7",
   "metadata": {},
   "source": [
    "## Map-Reduce en Python"
   ]
  },
  {
   "cell_type": "markdown",
   "id": "d508948a",
   "metadata": {},
   "source": [
    "### 1. Introduction"
   ]
  },
  {
   "cell_type": "code",
   "execution_count": 12,
   "id": "7767ae89",
   "metadata": {},
   "outputs": [
    {
     "name": "stdout",
     "output_type": "stream",
     "text": [
      "\n",
      "### Question 3.1.a\n",
      "[1, 4, 9, 16, 25, 36]\n",
      "\n",
      "### Question 3.1.b\n",
      "[1, 3, 5, 7, 9, 11]\n",
      "\n",
      "### Question 3.2.a\n",
      "['BARATATINER', 'ecraser', 'son', 'interlocuteur', 'sous', 'une', 'masse', 'de', 'propos', 'pourtant', 'bien', 'le', 'mot']\n"
     ]
    }
   ],
   "source": [
    "#!/usr/bin/python\n",
    "# -*- coding: utf-8 -*-\n",
    "\n",
    "# pour faciliter l'emploi de map, filter et reduce\n",
    "maporig = map\n",
    "map = lambda f, l: list(maporig(f, l))\n",
    "filterorig = filter\n",
    "filter = lambda f, l: list(filterorig(f, l))\n",
    "from functools import reduce\n",
    "\n",
    "# Question 3.1.a\n",
    "print(\"\\n### Question 3.1.a\")\n",
    "def carre(n):\n",
    "    return n ** 2  # Correction : retourner le carré de n\n",
    "\n",
    "print(list(map(carre, range(1, 7))))  # Correction : utiliser list() pour afficher les résultats\n",
    "\n",
    "# Question 3.1.b\n",
    "print(\"\\n### Question 3.1.b\")\n",
    "def mkimpair(i):\n",
    "    return i * 2 - 1  # Correction : retourner des nombres impairs\n",
    "\n",
    "print(list(map(mkimpair, range(1, 7))))  # Correction : utiliser list() pour afficher les résultats\n",
    "\n",
    "# Question 3.2.a\n",
    "print(\"\\n### Question 3.2.a\")\n",
    "phrase = \"BARATATINER ecraser son interlocuteur sous une masse de propos pourtant bien le mot\"\n",
    "mots = phrase.split()  # Correction : définir la variable `mots`\n",
    "\n",
    "print(mots)  # Afficher les mots de la phrase\n"
   ]
  },
  {
   "cell_type": "markdown",
   "id": "34b9ce37",
   "metadata": {},
   "source": [
    "### 2. Rappels sur les listes"
   ]
  },
  {
   "cell_type": "markdown",
   "id": "42ade49c",
   "metadata": {},
   "source": [
    "#### 2.1 Définition et manipulation de listes"
   ]
  },
  {
   "cell_type": "code",
   "execution_count": 13,
   "id": "37090a79",
   "metadata": {},
   "outputs": [
    {
     "name": "stdout",
     "output_type": "stream",
     "text": [
      "[1, 2, 3, 5, 8, 11]\n",
      "[4, 'ok', 2.71, 'ça va']\n",
      "[(1, 2), (5, 3), (-2, 4)]\n",
      "range(1, 10)\n",
      "[1, 2, 3, 4, 5, 6, 7, 8, 9]\n"
     ]
    }
   ],
   "source": [
    "liste = [1, 2, 3, 5, 8, 11]\n",
    "divers = [4, 'ok', 2.71, \"ça va\"]\n",
    "vecteurs = [(1,2), (5,3), (-2,4)]\n",
    "entiers = range(1, 10, 1)\n",
    "print(liste)\n",
    "print(divers)\n",
    "print(vecteurs)\n",
    "print(entiers)\n",
    "print(list(entiers))"
   ]
  },
  {
   "cell_type": "markdown",
   "id": "eb2209d7",
   "metadata": {},
   "source": [
    "#### 2.2 Fonctions utiles pour les listes"
   ]
  },
  {
   "cell_type": "code",
   "execution_count": 15,
   "id": "f7af95fc",
   "metadata": {},
   "outputs": [
    {
     "name": "stdout",
     "output_type": "stream",
     "text": [
      "6\n",
      "1\n",
      "11\n",
      "30\n"
     ]
    }
   ],
   "source": [
    "print(len(liste))  # Affiche la longueur de la liste\n",
    "print(liste[0])    # Affiche le premier élément de la liste\n",
    "print(liste[-1])   # Affiche le dernier élément de la liste\n",
    "print(sum(liste))  # Affiche la somme des éléments de la liste"
   ]
  },
  {
   "cell_type": "markdown",
   "id": "c807f1a9",
   "metadata": {},
   "source": [
    "#### 2.3 Séparation et jointure de chaînes de caractères"
   ]
  },
  {
   "cell_type": "code",
   "execution_count": 17,
   "id": "0614ef34",
   "metadata": {},
   "outputs": [
    {
     "name": "stdout",
     "output_type": "stream",
     "text": [
      "['bonjour', 'tout', 'le', 'monde']\n",
      "['b', 'nj', 'ur t', 'ut le m', 'nde']\n",
      "bOOnjOOur tOOut le mOOnde\n"
     ]
    }
   ],
   "source": [
    "print(\"bonjour tout le monde\".split(' '))  # Divise la chaîne à chaque espace\n",
    "print(\"bonjour tout le monde\".split('o'))  # Divise la chaîne à chaque 'o'\n",
    "print('OO'.join(\"bonjour tout le monde\".split('o')))  # Joint les éléments en utilisant 'OO'"
   ]
  },
  {
   "cell_type": "markdown",
   "id": "9593f330",
   "metadata": {},
   "source": [
    "#### 2.4 Fonction enumerate()"
   ]
  },
  {
   "cell_type": "code",
   "execution_count": 18,
   "id": "225fed93",
   "metadata": {},
   "outputs": [
    {
     "name": "stdout",
     "output_type": "stream",
     "text": [
      "[(0, 1), (1, 2), (2, 3), (3, 5), (4, 8), (5, 11)]\n"
     ]
    }
   ],
   "source": [
    "print(list(enumerate(liste)))  # Affiche les paires indice-élément de la liste"
   ]
  },
  {
   "cell_type": "markdown",
   "id": "8b82f880",
   "metadata": {},
   "source": [
    "### 3. Application de fonctions sur une liste"
   ]
  },
  {
   "cell_type": "code",
   "execution_count": 1,
   "id": "53e37c89",
   "metadata": {},
   "outputs": [
    {
     "name": "stdout",
     "output_type": "stream",
     "text": [
      "Liste initiale : [1, 3, -2, 8, -4]\n",
      "Après avoir appliqué negatif : [-1, -3, 2, -8, 4]\n",
      "Après avoir appliqué negatif deux fois : [1, 3, -2, 8, -4]\n"
     ]
    }
   ],
   "source": [
    "#!/usr/bin/python\n",
    "# -*- coding: utf-8 -*-\n",
    "\n",
    "# pour faciliter l'emploi de map, filter et reduce\n",
    "maporig = map\n",
    "map = lambda f, l: list(maporig(f, l))\n",
    "filterorig = filter\n",
    "filter = lambda f, l: list(filterorig(f, l))\n",
    "from functools import reduce\n",
    "\n",
    "# Fonction pour rendre un nombre négatif\n",
    "def negatif(n):\n",
    "    return -n\n",
    "\n",
    "# Liste initiale\n",
    "l1 = [1, 3, -2, 8, -4]\n",
    "print(\"Liste initiale :\", l1)\n",
    "\n",
    "# Appliquer la fonction negatif à chaque élément de la liste\n",
    "l2 = map(negatif, l1)\n",
    "print(\"Après avoir appliqué negatif :\", l2)\n",
    "\n",
    "# Imbriquer les appels de map\n",
    "l3 = map(negatif, map(negatif, l1))\n",
    "print(\"Après avoir appliqué negatif deux fois :\", l3)\n"
   ]
  },
  {
   "cell_type": "markdown",
   "id": "77aaccd0",
   "metadata": {},
   "source": [
    "#### 3.1 Exercices avec map sur des entiers"
   ]
  },
  {
   "cell_type": "code",
   "execution_count": 14,
   "id": "feaa59c5",
   "metadata": {},
   "outputs": [],
   "source": [
    "# La fonction carre(n) retourne le carré d'un nombre n\n",
    "def carre(n):\n",
    "    return n ** 2\n",
    "\n",
    "# La fonction mkimpair(i) retourne le i-ème entier impair\n",
    "def mkimpair(i):\n",
    "    return 2 * i + 1\n"
   ]
  },
  {
   "cell_type": "code",
   "execution_count": 11,
   "id": "7a145e27",
   "metadata": {},
   "outputs": [
    {
     "name": "stdout",
     "output_type": "stream",
     "text": [
      "Résultat de l'exercice 3.1.a: [1, 4, 9, 16, 25, 36, 49, 64, 81, 100]\n"
     ]
    }
   ],
   "source": [
    "# Liste des carrés des 10 premiers entiers naturels\n",
    "resultat_a = list(map(carre, range(1, 11)))\n",
    "print(\"Résultat de l'exercice 3.1.a:\", resultat_a)\n"
   ]
  },
  {
   "cell_type": "code",
   "execution_count": 12,
   "id": "97bb74e1",
   "metadata": {},
   "outputs": [
    {
     "name": "stdout",
     "output_type": "stream",
     "text": [
      "Résultat de l'exercice 3.1.b: [1, 3, 5, 7, 9, 11, 13, 15, 17, 19]\n"
     ]
    }
   ],
   "source": [
    "# Liste des 10 premiers entiers impairs\n",
    "resultat_b = list(map(mkimpair, range(10)))\n",
    "print(\"Résultat de l'exercice 3.1.b:\", resultat_b)\n"
   ]
  },
  {
   "cell_type": "markdown",
   "id": "48bf9057",
   "metadata": {},
   "source": [
    "#### 3.2 Exercices avec map sur des mots"
   ]
  },
  {
   "cell_type": "code",
   "execution_count": 15,
   "id": "9b0499bb",
   "metadata": {},
   "outputs": [
    {
     "name": "stdout",
     "output_type": "stream",
     "text": [
      "Liste des mots: ['BARATATINER', 'écraser', 'son', 'interlocuteur', 'sous', 'une', 'masse', 'de', 'propos', 'pourtant', 'bien', 'légers']\n"
     ]
    }
   ],
   "source": [
    "# Découper la phrase en mots en retirant la ponctuation\n",
    "phrase = \"BARATATINER écraser son interlocuteur sous une masse de propos pourtant bien légers\"\n",
    "mots = phrase.split()\n",
    "mots = [mot.strip(\".,;:!?\") for mot in mots]  # Retirer la ponctuation\n",
    "print(\"Liste des mots:\", mots)\n"
   ]
  },
  {
   "cell_type": "code",
   "execution_count": 16,
   "id": "e3863e36",
   "metadata": {},
   "outputs": [
    {
     "name": "stdout",
     "output_type": "stream",
     "text": [
      "Nombre de mots: 12\n",
      "Longueur de chaque mot: [11, 7, 3, 13, 4, 3, 5, 2, 6, 8, 4, 6]\n"
     ]
    }
   ],
   "source": [
    "# Afficher le nombre de mots et la longueur de chaque mot\n",
    "print(\"Nombre de mots:\", len(mots))\n",
    "longueurs = list(map(len, mots))\n",
    "print(\"Longueur de chaque mot:\", longueurs)\n"
   ]
  },
  {
   "cell_type": "code",
   "execution_count": 18,
   "id": "c1102745",
   "metadata": {},
   "outputs": [
    {
     "name": "stdout",
     "output_type": "stream",
     "text": [
      "Résultat de l'exercice 3.2.c: [False, True, False, False, True, True, False]\n"
     ]
    }
   ],
   "source": [
    "# Définir la fonction est_voyelle(lettre)\n",
    "def est_voyelle(lettre):\n",
    "    return lettre.lower() in 'aeiou'\n",
    "\n",
    "resultat_c = list(map(est_voyelle, 'bonjour'))\n",
    "print(\"Résultat de l'exercice 3.2.c:\", resultat_c)\n"
   ]
  },
  {
   "cell_type": "code",
   "execution_count": 19,
   "id": "24c8d8df",
   "metadata": {},
   "outputs": [
    {
     "name": "stdout",
     "output_type": "stream",
     "text": [
      "Résultat de l'exercice 3.2.d: [0, 1, 0, 0, 1, 1, 0]\n"
     ]
    }
   ],
   "source": [
    "#  Définir la fonction bool_to_int(b)\n",
    "def bool_to_int(b):\n",
    "    return 1 if b else 0\n",
    "\n",
    "resultat_d = list(map(bool_to_int, resultat_c))\n",
    "print(\"Résultat de l'exercice 3.2.d:\", resultat_d)\n"
   ]
  },
  {
   "cell_type": "code",
   "execution_count": 20,
   "id": "6fdfaefe",
   "metadata": {},
   "outputs": [
    {
     "name": "stdout",
     "output_type": "stream",
     "text": [
      "Résultat de l'exercice 3.2.e: [5, 2, 1, 6, 2, 2, 2, 1, 2, 3, 2, 1]\n"
     ]
    }
   ],
   "source": [
    "# Définir la fonction nb_voyelles(mot)\n",
    "def nb_voyelles(mot):\n",
    "    return sum(map(est_voyelle, mot))\n",
    "\n",
    "resultat_e = list(map(nb_voyelles, mots))\n",
    "print(\"Résultat de l'exercice 3.2.e:\", resultat_e)\n"
   ]
  },
  {
   "cell_type": "markdown",
   "id": "cdaf191d",
   "metadata": {},
   "source": [
    "### 3.3.Exercices avec map traitant des tuples"
   ]
  },
  {
   "cell_type": "code",
   "execution_count": 21,
   "id": "617c999d",
   "metadata": {},
   "outputs": [
    {
     "name": "stdout",
     "output_type": "stream",
     "text": [
      "Résultat de l'exercice 3.3.a: [(11, 5), (7, 2), (3, 1), (13, 6), (4, 2), (3, 2), (5, 2), (2, 1), (6, 2), (8, 3), (4, 2), (6, 1)]\n"
     ]
    }
   ],
   "source": [
    "# Écrire la fonction lng_nb_voyelles(mot) qui retourne des couples formés de la longueur du mot et du nombre de voyelles\n",
    "def lng_nb_voyelles(mot):\n",
    "    return (len(mot), nb_voyelles(mot))\n",
    "\n",
    "resultat_a = list(map(lng_nb_voyelles, mots))\n",
    "print(\"Résultat de l'exercice 3.3.a:\", resultat_a)\n"
   ]
  },
  {
   "cell_type": "code",
   "execution_count": 25,
   "id": "11a80a2d",
   "metadata": {},
   "outputs": [
    {
     "name": "stdout",
     "output_type": "stream",
     "text": [
      "Résultat de l'exercice 3.3.b (arrondi) : [0.45, 0.29, 0.33, 0.46, 0.5, 0.67, 0.4, 0.5, 0.33, 0.38, 0.5, 0.17]\n"
     ]
    }
   ],
   "source": [
    "# Écrire la fonction invquotient(a_b) qui retourne float(b)/float(a) dans cet ordre\n",
    "def invquotient(a_b):\n",
    "    a, b = a_b\n",
    "    return float(b) / float(a)\n",
    "\n",
    "resultat_b_arrondi = list(map(lambda x: round(x, 2), resultat_b))\n",
    "print(\"Résultat de l'exercice 3.3.b (arrondi) :\", resultat_b_arrondi)\n"
   ]
  },
  {
   "cell_type": "code",
   "execution_count": 26,
   "id": "65ddd591",
   "metadata": {},
   "outputs": [
    {
     "name": "stdout",
     "output_type": "stream",
     "text": [
      "Résultat de l'exercice 3.3.c: 198\n"
     ]
    }
   ],
   "source": [
    "# Écrire la fonction mult(a_b) qui retourne le produit de a par b\n",
    "def mult(a_b):\n",
    "    a, b = a_b\n",
    "    return a * b\n",
    "\n",
    "isbn10 = [0, 3, 8, 7, 7, 1, 6, 7, 5, 0]\n",
    "resultat_c = sum(map(mult, enumerate(isbn10)))\n",
    "print(\"Résultat de l'exercice 3.3.c:\", resultat_c)\n"
   ]
  },
  {
   "cell_type": "code",
   "execution_count": 31,
   "id": "cc2b4138",
   "metadata": {},
   "outputs": [
    {
     "name": "stdout",
     "output_type": "stream",
     "text": [
      "Résultat de l'exercice 3.3.d: 100\n"
     ]
    }
   ],
   "source": [
    "#  Écrire la fonction poids13(i_v) qui retourne v si i est pair et v * 3 si i est impair\n",
    "def poids13(i_v):\n",
    "    i, v = i_v\n",
    "    return v if i % 2 == 0 else v * 3\n",
    "\n",
    "isbn13 = [9, 7, 8, 2, 8, 2, 2, 7, 0, 1, 6, 2, 4]\n",
    "resultat_d = sum(map(poids13, enumerate(isbn13)))\n",
    "print(\"Résultat de l'exercice 3.3.d:\", resultat_d)\n"
   ]
  },
  {
   "cell_type": "code",
   "execution_count": 32,
   "id": "2b7003dd",
   "metadata": {},
   "outputs": [
    {
     "name": "stdout",
     "output_type": "stream",
     "text": [
      "Résultat de l'exercice 3.3.e: 100\n"
     ]
    }
   ],
   "source": [
    "# Utiliser zip pour comparer les chiffres du code ISBN13 avec une liste de poids\n",
    "poids_isbn13 = [1, 3, 1, 3, 1, 3, 1, 3, 1, 3, 1, 3, 1]\n",
    "resultat_e = sum(map(mult, zip(isbn13, poids_isbn13)))\n",
    "print(\"Résultat de l'exercice 3.3.e:\", resultat_e)\n"
   ]
  },
  {
   "cell_type": "markdown",
   "id": "1b6a09f8",
   "metadata": {},
   "source": [
    "### 4. Filtrage"
   ]
  },
  {
   "cell_type": "code",
   "execution_count": 33,
   "id": "06952c5a",
   "metadata": {},
   "outputs": [],
   "source": [
    "# Définition de la fonction est_pair\n",
    "def est_pair(n):\n",
    "    return n % 2 == 0\n"
   ]
  },
  {
   "cell_type": "code",
   "execution_count": 34,
   "id": "66ca90c4",
   "metadata": {},
   "outputs": [
    {
     "name": "stdout",
     "output_type": "stream",
     "text": [
      "Carrés pairs des 20 premiers entiers positifs : [4, 16, 36, 64, 100, 144, 196, 256, 324, 400]\n"
     ]
    }
   ],
   "source": [
    "# Utilisation de filter avec la fonction carre du 3.1.a et est_pair pour obtenir les carrés pairs des 20 premiers entiers positifs\n",
    "\n",
    "# Définition de la fonction carre(n) (issue de l'exercice 3.1.a)\n",
    "def carre(n):\n",
    "    return n ** 2\n",
    "\n",
    "# Utilisation de filter pour filtrer les carrés pairs des 20 premiers entiers positifs\n",
    "resultat_a = list(filter(est_pair, map(carre, range(1, 21))))\n",
    "\n",
    "print(\"Carrés pairs des 20 premiers entiers positifs :\", resultat_a)\n"
   ]
  },
  {
   "cell_type": "markdown",
   "id": "19c7150e",
   "metadata": {},
   "source": [
    "### 5. Fonction ou lambda ?"
   ]
  },
  {
   "cell_type": "code",
   "execution_count": 39,
   "id": "007ec7be",
   "metadata": {},
   "outputs": [
    {
     "data": {
      "text/plain": [
       "[1.0, 0.5, 0.33, 0.25, 0.2, 0.17, 0.14, 0.12, 0.11]"
      ]
     },
     "execution_count": 39,
     "metadata": {},
     "output_type": "execute_result"
    }
   ],
   "source": [
    "# Utilisation de map avec une fonction \n",
    "def inverse(x):\n",
    "    return 1.0 / float(x)\n",
    "\n",
    "list(map(lambda x: round(x, 2), map(inverse, range(1, 10))))\n"
   ]
  },
  {
   "cell_type": "code",
   "execution_count": 44,
   "id": "0e15a7ea",
   "metadata": {},
   "outputs": [
    {
     "name": "stdout",
     "output_type": "stream",
     "text": [
      "[1.0, 0.5, 0.33, 0.25, 0.2, 0.17, 0.14, 0.12, 0.11]\n"
     ]
    }
   ],
   "source": [
    "# Utilisation de map avec une lambda\n",
    "resultats = map(lambda x: 1.0 / float(x), range(1, 10))\n",
    "\n",
    "resultats_arrondis = map(lambda y: round(y, 2), resultats)\n",
    "\n",
    "print(list(resultats_arrondis))\n"
   ]
  },
  {
   "cell_type": "code",
   "execution_count": 45,
   "id": "85a38cd6",
   "metadata": {},
   "outputs": [],
   "source": [
    "# Réécrire la fonction est_pair avec une lambda\n",
    "est_pair = lambda n: n % 2 == 0\n"
   ]
  },
  {
   "cell_type": "code",
   "execution_count": 46,
   "id": "71aeccfd",
   "metadata": {},
   "outputs": [
    {
     "name": "stdout",
     "output_type": "stream",
     "text": [
      "Carrés pairs des 20 premiers entiers positifs : [4, 16, 36, 64, 100, 144, 196, 256, 324, 400]\n"
     ]
    }
   ],
   "source": [
    "# Utiliser la lambda avec filter pour filtrer les carrés pairs des 20 premiers entiers positifs \n",
    "resultat_a = list(filter(lambda x: x % 2 == 0, map(lambda x: x ** 2, range(1, 21))))\n",
    "print(\"Carrés pairs des 20 premiers entiers positifs :\", resultat_a)\n"
   ]
  },
  {
   "cell_type": "markdown",
   "id": "a083c683",
   "metadata": {},
   "source": [
    "### 6. Lecture d’une liste à partir de fichiers"
   ]
  },
  {
   "cell_type": "code",
   "execution_count": 52,
   "id": "603baa3f",
   "metadata": {},
   "outputs": [
    {
     "name": "stdout",
     "output_type": "stream",
     "text": [
      "{'GEOPOINT': '(48.857140829, 2.29533455314)', 'ARRONDISSEMENT': '7', 'GENRE': 'Maclura', 'ESPECE': 'pomifera', 'FAMILLE': 'Moraceae', 'ANNEE PLANTATION': '1935', 'HAUTEUR': '13.0', 'CIRCONFERENCE': '', 'ADRESSE': 'Quai Branly, avenue de La Motte-Piquet, avenue de la Bourdonnais, avenue de Suffren', 'NOM COMMUN': 'Oranger des Osages', 'VARIETE': '', 'OBJECTID': '6', 'NOM_EV': 'Parc du Champs de Mars'}\n",
      "{'GEOPOINT': '(48.8685686134, 2.31331809304)', 'ARRONDISSEMENT': '8', 'GENRE': 'Calocedrus', 'ESPECE': 'decurrens', 'FAMILLE': 'Cupressaceae', 'ANNEE PLANTATION': '1854', 'HAUTEUR': '20.0', 'CIRCONFERENCE': '195.0', 'ADRESSE': 'Cours-la-Reine, avenue Franklin-D.-Roosevelt, avenue Matignon, avenue Gabriel', 'NOM COMMUN': 'CÃ¨dre Ã\\xa0 encens', 'VARIETE': '', 'OBJECTID': '11', 'NOM_EV': 'Jardin des Champs ElysÃ©es'}\n",
      "{'GEOPOINT': '(48.8768191638, 2.33210374339)', 'ARRONDISSEMENT': '9', 'GENRE': 'Pterocarya', 'ESPECE': 'fraxinifolia', 'FAMILLE': 'Juglandaceae', 'ANNEE PLANTATION': '1862', 'HAUTEUR': '22.0', 'CIRCONFERENCE': '330.0', 'ADRESSE': \"Place d'Estienne-d'Orves\", 'NOM COMMUN': 'PÃ©rocarya du Caucase', 'VARIETE': '', 'OBJECTID': '14', 'NOM_EV': \"Square Etienne d'Orves\"}\n",
      "{'GEOPOINT': '(48.8373323894, 2.40776275516)', 'ARRONDISSEMENT': '12', 'GENRE': 'Celtis', 'ESPECE': 'australis', 'FAMILLE': 'Cannabaceae', 'ANNEE PLANTATION': '1906', 'HAUTEUR': '16.0', 'CIRCONFERENCE': '295.0', 'ADRESSE': '27, boulevard Soult', 'NOM COMMUN': 'Micocoulier de Provence', 'VARIETE': '', 'OBJECTID': '16', 'NOM_EV': 'Avenue 27 boulevard Soult'}\n",
      "{'GEOPOINT': '(48.8341842636, 2.46130493573)', 'ARRONDISSEMENT': '12', 'GENRE': 'Quercus', 'ESPECE': 'petraea', 'FAMILLE': 'Fagaceae', 'ANNEE PLANTATION': '1784', 'HAUTEUR': '30.0', 'CIRCONFERENCE': '430.0', 'ADRESSE': 'route ronde des Minimes', 'NOM COMMUN': 'ChÃªne rouvre', 'VARIETE': '', 'OBJECTID': '19', 'NOM_EV': 'Bois de Vincennes (lac des minimes)'}\n",
      "{'GEOPOINT': '(48.8325900983, 2.41116455985)', 'ARRONDISSEMENT': '12', 'GENRE': 'Platanus', 'ESPECE': 'x acerifolia', 'FAMILLE': 'Platanaceae', 'ANNEE PLANTATION': '1860', 'HAUTEUR': '45.0', 'CIRCONFERENCE': '405.0', 'ADRESSE': 'Ile de Bercy', 'NOM COMMUN': 'Platane commun', 'VARIETE': '', 'OBJECTID': '21', 'NOM_EV': 'Bois de Vincennes (Ile de Bercy)'}\n",
      "{'GEOPOINT': '(48.8226749117, 2.33869560229)', 'ARRONDISSEMENT': '14', 'GENRE': 'Platanus', 'ESPECE': 'x acerifolia', 'FAMILLE': 'Platanaceae', 'ANNEE PLANTATION': '1840', 'HAUTEUR': '40.0', 'CIRCONFERENCE': '580.0', 'ADRESSE': 'Bd Jourdan, avenue Reille, rue Gazan, rue de la CitÃ©â€š-Universitaire, rue Nansouty', 'NOM COMMUN': 'Platane commun', 'VARIETE': '', 'OBJECTID': '26', 'NOM_EV': 'Parc Montsouris'}\n",
      "{'GEOPOINT': '(48.8428118006, 2.2972574926)', 'ARRONDISSEMENT': '15', 'GENRE': 'Alnus', 'ESPECE': 'glutinosa', 'FAMILLE': 'Betulaceae', 'ANNEE PLANTATION': '1933', 'HAUTEUR': '16.0', 'CIRCONFERENCE': '220.0', 'ADRESSE': 'Rue Thâ€šophraste-Renaudot, rue Lâ€šon-Lhermitte, rue Jean Formigâ€š, rue du Docteur Jacquem', 'NOM COMMUN': 'Aulne glutineux', 'VARIETE': '', 'OBJECTID': '28', 'NOM_EV': 'Square Saint Lambert'}\n",
      "{'GEOPOINT': '(48.8717782491, 2.27973325759)', 'ARRONDISSEMENT': '16', 'GENRE': 'Aesculus', 'ESPECE': 'hippocastanum', 'FAMILLE': 'Sapindaceae', 'ANNEE PLANTATION': '', 'HAUTEUR': '30.0', 'CIRCONFERENCE': '505.0', 'ADRESSE': 'Avenue Foch', 'NOM COMMUN': \"Marronnier d'Inde\", 'VARIETE': '', 'OBJECTID': '30', 'NOM_EV': 'Avenue Foch'}\n",
      "{'GEOPOINT': '(48.8802898189, 2.38157469859)', 'ARRONDISSEMENT': '19', 'GENRE': 'Ginkgo', 'ESPECE': 'biloba', 'FAMILLE': 'Ginkgoaceae', 'ANNEE PLANTATION': '1913', 'HAUTEUR': '33.0', 'CIRCONFERENCE': '230.0', 'ADRESSE': 'Rue Manin, rue Botzaris', 'NOM COMMUN': 'Arbre aux quarante Ã©cus', 'VARIETE': '', 'OBJECTID': '46', 'NOM_EV': 'Parc des Buttes Chaumont'}\n",
      "{'GEOPOINT': '(48.8820015094, 2.39836942721)', 'ARRONDISSEMENT': '19', 'GENRE': 'Fraxinus', 'ESPECE': 'excelsior', 'FAMILLE': 'Oleaceae', 'ANNEE PLANTATION': '', 'HAUTEUR': '30.0', 'CIRCONFERENCE': '365.0', 'ADRESSE': \"Boulevard d'AlgÃ©rie\", 'NOM COMMUN': 'FrÃªne commun', 'VARIETE': '', 'OBJECTID': '52', 'NOM_EV': 'Square de la Butte du Chapeau Rouge'}\n",
      "{'GEOPOINT': '(48.846044762, 2.2529555706)', 'ARRONDISSEMENT': '16', 'GENRE': 'Ailanthus', 'ESPECE': 'giraldii', 'FAMILLE': 'Simaroubaceae', 'ANNEE PLANTATION': '', 'HAUTEUR': '35.0', 'CIRCONFERENCE': '460.0', 'ADRESSE': \"3 avenue de la Porte d'Auteuil, 1 avenue Gordon Benett\", 'NOM COMMUN': 'Ailanthe', 'VARIETE': '', 'OBJECTID': '53', 'NOM_EV': \"Jardin des Serres d'Auteuil\"}\n",
      "{'GEOPOINT': '(48.8606198209, 2.2599223737)', 'ARRONDISSEMENT': '16', 'GENRE': 'Taxodium', 'ESPECE': 'distichum', 'FAMILLE': 'Taxodiaceae', 'ANNEE PLANTATION': '1862', 'HAUTEUR': '35.0', 'CIRCONFERENCE': '350.0', 'ADRESSE': 'Berge du lac InfÃ©rieur', 'NOM COMMUN': 'CyprÃ©s chauve', 'VARIETE': '', 'OBJECTID': '56', 'NOM_EV': 'Bois de Boulogne (Berge du lac infÃ©rieur)'}\n",
      "{'GEOPOINT': '(48.8232165418, 2.46016871078)', 'ARRONDISSEMENT': '12', 'GENRE': 'Diospyros', 'ESPECE': 'kaki', 'FAMILLE': 'Ebenaceae', 'ANNEE PLANTATION': '', 'HAUTEUR': '12.0', 'CIRCONFERENCE': '160.0', 'ADRESSE': 'Route de la Ferme, route de la Pyramide', 'NOM COMMUN': 'Kaki', 'VARIETE': '', 'OBJECTID': '58', 'NOM_EV': \"Jardin de l' Ecole Du Breuil\"}\n",
      "{'GEOPOINT': '(48.8764503804, 2.25765244347)', 'ARRONDISSEMENT': '16', 'GENRE': 'Sequoiadendron', 'ESPECE': 'giganteum', 'FAMILLE': 'Taxodiaceae', 'ANNEE PLANTATION': '1850', 'HAUTEUR': '30.0', 'CIRCONFERENCE': '', 'ADRESSE': '', 'NOM COMMUN': 'SÃ©quoia gÃ©ant', 'VARIETE': '', 'OBJECTID': '59', 'NOM_EV': 'Bois de Boulogne (Portes Saint james)'}\n",
      "{'GEOPOINT': '(48.8691485018, 2.27224125103)', 'ARRONDISSEMENT': '16', 'GENRE': 'Gymnocladus', 'ESPECE': 'dioicus', 'FAMILLE': 'Fabaceae', 'ANNEE PLANTATION': '', 'HAUTEUR': '10.0', 'CIRCONFERENCE': '162.0', 'ADRESSE': '', 'NOM COMMUN': 'Chicot du Canada', 'VARIETE': '', 'OBJECTID': '61', 'NOM_EV': 'Square Schumann'}\n",
      "{'GEOPOINT': '(48.8615768444, 2.25902702441)', 'ARRONDISSEMENT': '16', 'GENRE': 'Fagus', 'ESPECE': 'sylvatica', 'FAMILLE': 'Fagaceae', 'ANNEE PLANTATION': '1857', 'HAUTEUR': '10.0', 'CIRCONFERENCE': '200.0', 'ADRESSE': '', 'NOM COMMUN': 'HÃªtre pleureur', 'VARIETE': 'Pendula', 'OBJECTID': '63', 'NOM_EV': 'Bois de Boulogne (petite Ã®le du Lac InfÃ©rieur)'}\n",
      "{'GEOPOINT': '(48.8633555664, 2.26174532022)', 'ARRONDISSEMENT': '16', 'GENRE': 'Pterocarya', 'ESPECE': 'fraxinifolia', 'FAMILLE': 'Juglandaceae', 'ANNEE PLANTATION': '1882', 'HAUTEUR': '27.0', 'CIRCONFERENCE': '400.0', 'ADRESSE': '', 'NOM COMMUN': 'PÃ©rocarya du Caucase', 'VARIETE': '', 'OBJECTID': '65', 'NOM_EV': 'Bois de Boulogne (Berge du lac infÃ©rieur)'}\n",
      "{'GEOPOINT': '(48.8646024472, 2.25171449183)', 'ARRONDISSEMENT': '16', 'GENRE': 'Sequoiadendron', 'ESPECE': 'giganteum', 'FAMILLE': 'Taxodiaceae', 'ANNEE PLANTATION': '1872', 'HAUTEUR': '', 'CIRCONFERENCE': '655.0', 'ADRESSE': 'Route de la Grande Cascade, carrefour de la Croix Catelan', 'NOM COMMUN': 'SÃ©quoia gÃ©ant', 'VARIETE': '', 'OBJECTID': '67', 'NOM_EV': 'Bois de Boulogne (PrÃ© Catelan)'}\n",
      "{'GEOPOINT': '(48.865022534, 2.2538285063)', 'ARRONDISSEMENT': '16', 'GENRE': 'Pinus', 'ESPECE': 'nigra', 'FAMILLE': 'Pinaceae', 'ANNEE PLANTATION': '', 'HAUTEUR': '30.0', 'CIRCONFERENCE': '250.0', 'ADRESSE': 'Route de la Grande Cascade, carrefour de la Croix Catelan', 'NOM COMMUN': 'Pin noir', 'VARIETE': '', 'OBJECTID': '69', 'NOM_EV': 'Bois de Boulogne (PrÃ© Catelan)'}\n",
      "{'GEOPOINT': '(48.8704017043, 2.24852577475)', 'ARRONDISSEMENT': '16', 'GENRE': 'Platanus', 'ESPECE': 'orientalis', 'FAMILLE': 'Platanaceae', 'ANNEE PLANTATION': '1843', 'HAUTEUR': '26.0', 'CIRCONFERENCE': '340.0', 'ADRESSE': 'AllÃ©e de Longchamp, route de SÃ¨vres Ã\\xa0 Neuilly', 'NOM COMMUN': \"Platane d'Orient\", 'VARIETE': '', 'OBJECTID': '73', 'NOM_EV': 'Bois de Boulogne (Bagatelle)'}\n",
      "{'GEOPOINT': '(48.8347628794, 2.42029690936)', 'ARRONDISSEMENT': '12', 'GENRE': 'Zelkova', 'ESPECE': 'serrata', 'FAMILLE': 'Ulmaceae', 'ANNEE PLANTATION': '1872', 'HAUTEUR': '18.0', 'CIRCONFERENCE': '240.0', 'ADRESSE': '', 'NOM COMMUN': 'Zelkova du Japon', 'VARIETE': '', 'OBJECTID': '83', 'NOM_EV': \"Bois de Vincennes (Ecole chiens guide d'aveugle)\"}\n",
      "{'GEOPOINT': '(48.8333849101, 2.41261756721)', 'ARRONDISSEMENT': '12', 'GENRE': 'Juglans', 'ESPECE': 'nigra', 'FAMILLE': 'Juglandaceae', 'ANNEE PLANTATION': '1845', 'HAUTEUR': '28.0', 'CIRCONFERENCE': '570.0', 'ADRESSE': 'route de la ceinture du Lac Daumesnil', 'NOM COMMUN': 'Noyer noir', 'VARIETE': '', 'OBJECTID': '85', 'NOM_EV': 'Bois de Vincennes (Lac Daumesnil/porte DorÃ©e)'}\n",
      "{'GEOPOINT': '(48.8324049718, 2.41169855654)', 'ARRONDISSEMENT': '12', 'GENRE': 'Taxodium', 'ESPECE': 'distichum', 'FAMILLE': 'Taxodiaceae', 'ANNEE PLANTATION': '1930', 'HAUTEUR': '20.0', 'CIRCONFERENCE': '270.0', 'ADRESSE': 'Ile de Bercy', 'NOM COMMUN': 'CyprÃ©s chauve', 'VARIETE': '', 'OBJECTID': '87', 'NOM_EV': 'Bois de Vincennes (Ile de Bercy)'}\n",
      "{'GEOPOINT': '(48.8213214388, 2.45537251962)', 'ARRONDISSEMENT': '12', 'GENRE': 'Pinus', 'ESPECE': 'bungeana', 'FAMILLE': 'Pinaceae', 'ANNEE PLANTATION': '', 'HAUTEUR': '10.0', 'CIRCONFERENCE': '50.0', 'ADRESSE': 'Route de la Ferme, route de la Pyramide', 'NOM COMMUN': 'Pin NapolÃ©on', 'VARIETE': '', 'OBJECTID': '95', 'NOM_EV': 'Arboretum Ecole du Breuil'}\n",
      "{'GEOPOINT': '(48.8204495642, 2.44579219199)', 'ARRONDISSEMENT': '12', 'GENRE': 'Pinus', 'ESPECE': 'nigra', 'FAMILLE': 'Pinaceae', 'ANNEE PLANTATION': '1870', 'HAUTEUR': '25.0', 'CIRCONFERENCE': '248.0', 'ADRESSE': 'route de la Tourelle, route du Point de Vue', 'NOM COMMUN': 'Pin noir', 'VARIETE': 'Austriaca', 'OBJECTID': '97', 'NOM_EV': 'Bois de Vincennes (lac de gravelle)'}\n",
      "{'GEOPOINT': '(48.8520958913, 2.34740754195)', 'ARRONDISSEMENT': '5', 'GENRE': 'Robinia', 'ESPECE': 'pseudoacacia', 'FAMILLE': 'Fabaceae', 'ANNEE PLANTATION': '1601', 'HAUTEUR': '11.0', 'CIRCONFERENCE': '385.0', 'ADRESSE': 'Quai de Montebello, rue Lagrange, rue Saint-Julien-le-Pauvre', 'NOM COMMUN': 'Robinier faux-acacia', 'VARIETE': '', 'OBJECTID': '4', 'NOM_EV': 'Square Viviani'}\n",
      "{'GEOPOINT': '(48.8578717375, 2.29706549763)', 'ARRONDISSEMENT': '7', 'GENRE': 'Eucommia', 'ESPECE': 'ulmoides', 'FAMILLE': 'Eucomiaceae', 'ANNEE PLANTATION': '', 'HAUTEUR': '12.0', 'CIRCONFERENCE': '190.0', 'ADRESSE': 'Quai Branly, avenue de La Motte-Piquet, avenue de la Bourdonnais, avenue de Suffren', 'NOM COMMUN': 'Arbre Ã\\xa0 gutta-percha', 'VARIETE': '', 'OBJECTID': '7', 'NOM_EV': 'Parc du Champs de Mars'}\n",
      "{'GEOPOINT': '(48.8792159582, 2.30640768208)', 'ARRONDISSEMENT': '8', 'GENRE': 'Ginkgo', 'ESPECE': 'biloba', 'FAMILLE': 'Ginkgoaceae', 'ANNEE PLANTATION': '1879', 'HAUTEUR': '22.0', 'CIRCONFERENCE': '283.0', 'ADRESSE': 'Boulevard de Courcelles, avenue Vâ€šlasquez, avenue Van-Dyck, avenue Ruysdael', 'NOM COMMUN': 'Arbre aux quarante Ã©cus', 'VARIETE': '', 'OBJECTID': '10', 'NOM_EV': 'Parc Monceau'}\n",
      "{'GEOPOINT': '(48.8669690843, 2.31951408752)', 'ARRONDISSEMENT': '8', 'GENRE': 'Sequoiadendron', 'ESPECE': 'giganteum', 'FAMILLE': 'Taxodiaceae', 'ANNEE PLANTATION': '1850', 'HAUTEUR': '20.0', 'CIRCONFERENCE': '320.0', 'ADRESSE': 'Cours-la-Reine, avenue Franklin-D.-Roosevelt, avenue Matignon, avenue Gabriel', 'NOM COMMUN': 'SÃ©quoia gÃ©ant', 'VARIETE': '', 'OBJECTID': '12', 'NOM_EV': 'Jardin des Champs ElysÃ©es'}\n",
      "{'GEOPOINT': '(48.8353848188, 2.38157245444)', 'ARRONDISSEMENT': '12', 'GENRE': 'Platanus', 'ESPECE': 'x acerifolia', 'FAMILLE': 'Platanaceae', 'ANNEE PLANTATION': '', 'HAUTEUR': '35.0', 'CIRCONFERENCE': '510.0', 'ADRESSE': \"Rue Paul-Belmondo, rue Joseph-Kessel, rue de l'Ambroise, rue FranÃ§ois-Truffaut\", 'NOM COMMUN': 'Platane commun', 'VARIETE': '', 'OBJECTID': '17', 'NOM_EV': 'Parc de Bercy'}\n",
      "{'GEOPOINT': '(48.8330496955, 2.35078878768)', 'ARRONDISSEMENT': '13', 'GENRE': 'Aesculus', 'ESPECE': 'hippocastanum', 'FAMILLE': 'Sapindaceae', 'ANNEE PLANTATION': '1894', 'HAUTEUR': '18.0', 'CIRCONFERENCE': '355.0', 'ADRESSE': 'Rue Croulebarbe, rue Corvisart, rue Emile-Deslandres, rue des CordeliÃ¨res', 'NOM COMMUN': \"Marronnier d'Inde\", 'VARIETE': '', 'OBJECTID': '23', 'NOM_EV': 'Square RenÃ© Le Gall'}\n",
      "{'GEOPOINT': '(48.8224956954, 2.3366608746)', 'ARRONDISSEMENT': '14', 'GENRE': 'Fagus', 'ESPECE': 'sylvatica', 'FAMILLE': 'Fagaceae', 'ANNEE PLANTATION': '', 'HAUTEUR': '30.0', 'CIRCONFERENCE': '370.0', 'ADRESSE': 'Bd Jourdan, avenue Reille, rue Gazan, rue de la CitÃ©â€š-Universitaire, rue Nansouty', 'NOM COMMUN': 'HÃªtre pourpre', 'VARIETE': 'Purpurea', 'OBJECTID': '25', 'NOM_EV': 'Parc Montsouris'}\n",
      "{'GEOPOINT': '(48.8220238534, 2.33628540112)', 'ARRONDISSEMENT': '14', 'GENRE': 'Sequoia', 'ESPECE': 'sempervirens', 'FAMILLE': 'Taxodiaceae', 'ANNEE PLANTATION': '1935', 'HAUTEUR': '30.0', 'CIRCONFERENCE': '335.0', 'ADRESSE': 'Bd Jourdan, avenue Reille, rue Gazan, rue de la CitÃ©â€š-Universitaire, rue Nansouty', 'NOM COMMUN': 'SÃ©quoia sempervirent', 'VARIETE': '', 'OBJECTID': '27', 'NOM_EV': 'Parc Montsouris'}\n",
      "{'GEOPOINT': '(48.8814628758, 2.38367383179)', 'ARRONDISSEMENT': '19', 'GENRE': 'Styphnolobium', 'ESPECE': 'japonicum', 'FAMILLE': 'Fabaceae', 'ANNEE PLANTATION': '1873', 'HAUTEUR': '10.0', 'CIRCONFERENCE': '335.0', 'ADRESSE': 'Rue Manin, rue Botzaris', 'NOM COMMUN': 'Sophora du Japon', 'VARIETE': '', 'OBJECTID': '44', 'NOM_EV': 'Parc des Buttes Chaumont'}\n",
      "{'GEOPOINT': '(48.8803986732, 2.38129958306)', 'ARRONDISSEMENT': '19', 'GENRE': 'Platanus', 'ESPECE': 'orientalis', 'FAMILLE': 'Platanaceae', 'ANNEE PLANTATION': '1862', 'HAUTEUR': '34.0', 'CIRCONFERENCE': '670.0', 'ADRESSE': 'Rue Manin, rue Botzaris', 'NOM COMMUN': \"Platane d'Orient\", 'VARIETE': '', 'OBJECTID': '45', 'NOM_EV': 'Parc des Buttes Chaumont'}\n",
      "{'GEOPOINT': '(48.8619346483, 2.39870061217)', 'ARRONDISSEMENT': '20', 'GENRE': 'Acer', 'ESPECE': 'monspessulanum', 'FAMILLE': 'Sapindacaees', 'ANNEE PLANTATION': '1833', 'HAUTEUR': '12.0', 'CIRCONFERENCE': '225.0', 'ADRESSE': 'Rue du repos, rue des Rondeaux', 'NOM COMMUN': 'Erable de Montpellier', 'VARIETE': '', 'OBJECTID': '48', 'NOM_EV': 'CimetiÃ¨re du PÃ¨re Lachaise'}\n",
      "{'GEOPOINT': '(48.879759998, 2.38064802989)', 'ARRONDISSEMENT': '19', 'GENRE': 'Sequoiadendron', 'ESPECE': 'giganteum', 'FAMILLE': 'Taxodiaceae', 'ANNEE PLANTATION': '', 'HAUTEUR': '35.0', 'CIRCONFERENCE': '470.0', 'ADRESSE': 'Rue Manin, rue Botzaris', 'NOM COMMUN': 'SÃ©quoia gÃ©ant', 'VARIETE': '', 'OBJECTID': '57', 'NOM_EV': 'Parc des Buttes Chaumont'}\n",
      "{'GEOPOINT': '(48.8640166469, 2.26774597209)', 'ARRONDISSEMENT': '16', 'GENRE': 'Fagus', 'ESPECE': 'sylvatica', 'FAMILLE': 'Fagaceae', 'ANNEE PLANTATION': '', 'HAUTEUR': '18.0', 'CIRCONFERENCE': '300.0', 'ADRESSE': '', 'NOM COMMUN': 'HÃªtre pourpre', 'VARIETE': 'Purpurea', 'OBJECTID': '60', 'NOM_EV': 'Stade Muette'}\n",
      "{'GEOPOINT': '(48.8647824278, 2.25120424857)', 'ARRONDISSEMENT': '16', 'GENRE': 'Diospyros', 'ESPECE': 'kaki', 'FAMILLE': 'Ebenaceae', 'ANNEE PLANTATION': '1897', 'HAUTEUR': '14.0', 'CIRCONFERENCE': '145.0', 'ADRESSE': 'Route de la Grande Cascade, carrefour de la Croix Catelan', 'NOM COMMUN': 'Kaki', 'VARIETE': '', 'OBJECTID': '68', 'NOM_EV': 'Bois de Boulogne (PrÃ© Catelan)'}\n",
      "{'GEOPOINT': '(48.8693939056, 2.24776773334)', 'ARRONDISSEMENT': '16', 'GENRE': 'Sequoiadendron', 'ESPECE': 'giganteum', 'FAMILLE': 'Taxodiaceae', 'ANNEE PLANTATION': '1850', 'HAUTEUR': '30.0', 'CIRCONFERENCE': '490.0', 'ADRESSE': 'AllÃ©e de Longchamp, route de SÃ¨vres Ã\\xa0 Neuilly', 'NOM COMMUN': 'SÃ©quoia gÃ©ant', 'VARIETE': '', 'OBJECTID': '72', 'NOM_EV': 'Bois de Boulogne (Bagatelle)'}\n",
      "{'GEOPOINT': '(48.867043584, 2.25320074406)', 'ARRONDISSEMENT': '16', 'GENRE': 'Platanus', 'ESPECE': 'x acerifolia', 'FAMILLE': 'Platanaceae', 'ANNEE PLANTATION': '1872', 'HAUTEUR': '40.0', 'CIRCONFERENCE': '520.0', 'ADRESSE': 'Route du Lac Ã\\xa0 Bagatelle', 'NOM COMMUN': 'Platane commun', 'VARIETE': '', 'OBJECTID': '74', 'NOM_EV': 'Bois de Boulogne (Route du Lac Ã\\xa0 Bagatelle)'}\n",
      "{'GEOPOINT': '(48.8630909172, 2.24159242682)', 'ARRONDISSEMENT': '16', 'GENRE': 'Pinus', 'ESPECE': 'nigra laricio', 'FAMILLE': 'Pinaceae', 'ANNEE PLANTATION': '1882', 'HAUTEUR': '30.0', 'CIRCONFERENCE': '240.0', 'ADRESSE': 'Allâ€še de Longchamp, carrefour des cascades', 'NOM COMMUN': 'Pin de Corse', 'VARIETE': '', 'OBJECTID': '76', 'NOM_EV': 'Bois de Boulogne (rÃ©servoir de la cascade)'}\n",
      "{'GEOPOINT': '(48.8632834941, 2.24066981564)', 'ARRONDISSEMENT': '16', 'GENRE': 'Taxodium', 'ESPECE': 'distichum', 'FAMILLE': 'Taxodiaceae', 'ANNEE PLANTATION': '1859', 'HAUTEUR': '30.0', 'CIRCONFERENCE': '290.0', 'ADRESSE': 'AllÃ©e de Longchamp, carrefour des cascades', 'NOM COMMUN': 'CyprÃ©s chauve', 'VARIETE': '', 'OBJECTID': '77', 'NOM_EV': 'Bois de Boulogne (Grande Cascade)'}\n",
      "{'GEOPOINT': '(48.8400020891, 2.46422657197)', 'ARRONDISSEMENT': '12', 'GENRE': 'Acer', 'ESPECE': 'cappadocicum', 'FAMILLE': 'Sapindaceae', 'ANNEE PLANTATION': '1900', 'HAUTEUR': '16.0', 'CIRCONFERENCE': '280.0', 'ADRESSE': 'avenue de la Belle Gabrielle', 'NOM COMMUN': 'Erable de Cappadoce', 'VARIETE': '', 'OBJECTID': '78', 'NOM_EV': 'Bois de Vincennes (pelouse de Fontenay)'}\n",
      "{'GEOPOINT': '(48.8394165343, 2.43360205128)', 'ARRONDISSEMENT': '12', 'GENRE': 'Liriodendron', 'ESPECE': 'tulipifera', 'FAMILLE': 'Magnoliaceae', 'ANNEE PLANTATION': '1862', 'HAUTEUR': '35.0', 'CIRCONFERENCE': '305.0', 'ADRESSE': 'avenue Daumesnil, Esplanade du ChÃ¢teau de Vincennes', 'NOM COMMUN': 'Tulipier de Virginie', 'VARIETE': '', 'OBJECTID': '81', 'NOM_EV': 'Bois de Vincennes (square Carnot)'}\n",
      "{'GEOPOINT': '(48.8319232533, 2.41202933239)', 'ARRONDISSEMENT': '12', 'GENRE': 'Liriodendron', 'ESPECE': 'tulipifera', 'FAMILLE': 'Magnoliaceae', 'ANNEE PLANTATION': '1930', 'HAUTEUR': '22.0', 'CIRCONFERENCE': '205.0', 'ADRESSE': 'Ile de Bercy', 'NOM COMMUN': 'Tulipier de Virginie', 'VARIETE': '', 'OBJECTID': '88', 'NOM_EV': 'Bois de Vincennes (Ile de Bercy)'}\n",
      "{'GEOPOINT': '(48.8320684332, 2.41182825531)', 'ARRONDISSEMENT': '12', 'GENRE': 'Taxus', 'ESPECE': 'baccata', 'FAMILLE': 'Taxaceae', 'ANNEE PLANTATION': '1870', 'HAUTEUR': '5.0', 'CIRCONFERENCE': '140.0', 'ADRESSE': 'Ile de Bercy', 'NOM COMMUN': 'If commun', 'VARIETE': '', 'OBJECTID': '89', 'NOM_EV': 'Bois de Vincennes (Ile de Bercy)'}\n",
      "{'GEOPOINT': '(48.8292071873, 2.41301158121)', 'ARRONDISSEMENT': '12', 'GENRE': 'Platanus', 'ESPECE': 'x acerifolia', 'FAMILLE': 'Platanaceae', 'ANNEE PLANTATION': '1871', 'HAUTEUR': '25.0', 'CIRCONFERENCE': '490.0', 'ADRESSE': 'route de la ceinture du Lac Daumesnil', 'NOM COMMUN': 'Platane commun', 'VARIETE': '', 'OBJECTID': '92', 'NOM_EV': 'Bois de Vincennes (lac daumesnil)'}\n",
      "{'GEOPOINT': '(48.8400754064, 2.43381509843)', 'ARRONDISSEMENT': '12', 'GENRE': 'Diospyros', 'ESPECE': 'virginiana', 'FAMILLE': 'Ebenaceae', 'ANNEE PLANTATION': '1875', 'HAUTEUR': '14.0', 'CIRCONFERENCE': '180.0', 'ADRESSE': 'avenue Daumesnil, Esplanade du ChÃ¢teau de Vincennes', 'NOM COMMUN': 'Plaqueminier de Virginie', 'VARIETE': '', 'OBJECTID': '94', 'NOM_EV': 'Bois de Vincennes (square Carnot)'}\n",
      "{'GEOPOINT': '(48.8183933679, 2.43791766754)', 'ARRONDISSEMENT': '12', 'GENRE': 'Quercus', 'ESPECE': 'ilex', 'FAMILLE': 'Fagaceae', 'ANNEE PLANTATION': '1860', 'HAUTEUR': '15.0', 'CIRCONFERENCE': '', 'ADRESSE': 'route de Gravelle, route du Marâ€šchal Leclerc (Saint Maurice)', 'NOM COMMUN': 'ChÃªne vert', 'VARIETE': '', 'OBJECTID': '98', 'NOM_EV': 'Bois de Vincennes (pente de Gravelle)'}\n",
      "{'GEOPOINT': '(48.8557581795, 2.35399582218)', 'ARRONDISSEMENT': '4', 'GENRE': 'Ulmus', 'ESPECE': 'carpinifolia', 'FAMILLE': 'Ulmaceae', 'ANNEE PLANTATION': '1935', 'HAUTEUR': '15.0', 'CIRCONFERENCE': '180.0', 'ADRESSE': 'Place St Gervais', 'NOM COMMUN': 'Orme champÃªtre', 'VARIETE': '', 'OBJECTID': '2', 'NOM_EV': 'Place Saint Gervais'}\n",
      "{'GEOPOINT': '(48.8453050031, 2.35307565328)', 'ARRONDISSEMENT': '5', 'GENRE': 'Fagus', 'ESPECE': 'sylvatica', 'FAMILLE': 'Fagaceae', 'ANNEE PLANTATION': '1905', 'HAUTEUR': '2.0', 'CIRCONFERENCE': '72.0', 'ADRESSE': 'Rue des ArÃªnes, rue de Navarre, rue Monge', 'NOM COMMUN': 'Faux de Verzy', 'VARIETE': 'Tortuosa', 'OBJECTID': '3', 'NOM_EV': 'Square des ArÃ¨nes de LutÃ¨ce'}\n",
      "{'GEOPOINT': '(48.8618464812, 2.37910176561)', 'ARRONDISSEMENT': '11', 'GENRE': 'Corylus', 'ESPECE': 'colurna', 'FAMILLE': 'Betulaceae', 'ANNEE PLANTATION': '1879', 'HAUTEUR': '20.0', 'CIRCONFERENCE': '245.0', 'ADRESSE': 'Rue LacharriÃ¨re, rue Rochebrune, rue du GÃ©nÃ©ral-Guilhem, rue du GÃ©nÃ©ral-Blaise', 'NOM COMMUN': 'Noisetier de Byzance', 'VARIETE': '', 'OBJECTID': '15', 'NOM_EV': 'Square Maurice Gardette'}\n",
      "{'GEOPOINT': '(48.8420426954, 2.43848438671)', 'ARRONDISSEMENT': '12', 'GENRE': 'Fagus', 'ESPECE': 'sylvatica', 'FAMILLE': 'Fagaceae', 'ANNEE PLANTATION': '1895', 'HAUTEUR': '23.0', 'CIRCONFERENCE': '370.0', 'ADRESSE': 'Cours Marigny', 'NOM COMMUN': 'HÃªtre pourpre', 'VARIETE': 'Purpurea', 'OBJECTID': '18', 'NOM_EV': 'Bois de Vincennes (Cours Marigny)'}\n",
      "{'GEOPOINT': '(48.8201249835, 2.44524393613)', 'ARRONDISSEMENT': '12', 'GENRE': 'Cedrus', 'ESPECE': 'libanii', 'FAMILLE': 'Pinaceae', 'ANNEE PLANTATION': '1829', 'HAUTEUR': '30.0', 'CIRCONFERENCE': '440.0', 'ADRESSE': 'route de la Tourelle, route du Point de Vue', 'NOM COMMUN': 'CÃ¨dre du Liban', 'VARIETE': '', 'OBJECTID': '22', 'NOM_EV': 'Bois de Vincennes (lac de Gravelle)'}\n",
      "{'GEOPOINT': '(48.8471789821, 2.25293802515)', 'ARRONDISSEMENT': '16', 'GENRE': 'Quercus', 'ESPECE': 'suber', 'FAMILLE': 'Fagaceae', 'ANNEE PLANTATION': '1895', 'HAUTEUR': '10.0', 'CIRCONFERENCE': '180.0', 'ADRESSE': \"3 avenue de la Porte d'Auteuil, 1 avenue Gordon Benett\", 'NOM COMMUN': 'ChÃªne liÃ¨ge', 'VARIETE': '', 'OBJECTID': '32', 'NOM_EV': \"Jardin des Serres d'Auteuil\"}\n",
      "{'GEOPOINT': '(48.8450859307, 2.26948936839)', 'ARRONDISSEMENT': '16', 'GENRE': 'Broussonetia', 'ESPECE': 'papyrifera', 'FAMILLE': 'Moraceae', 'ANNEE PLANTATION': '', 'HAUTEUR': '12.0', 'CIRCONFERENCE': '190.0', 'ADRESSE': 'Rue Mirabeau, avenue de Versailles', 'NOM COMMUN': 'Murier Ã\\xa0 papier', 'VARIETE': '', 'OBJECTID': '33', 'NOM_EV': 'Parc Sainte Perinne'}\n",
      "{'GEOPOINT': '(48.8634848878, 2.2403752961)', 'ARRONDISSEMENT': '16', 'GENRE': 'Cedrus', 'ESPECE': 'libanii', 'FAMILLE': 'Pinaceae', 'ANNEE PLANTATION': '1862', 'HAUTEUR': '30.0', 'CIRCONFERENCE': '460.0', 'ADRESSE': 'Allâ€še de Longchamp, carrefour des cascades', 'NOM COMMUN': 'CÃ¨dre du Liban', 'VARIETE': '', 'OBJECTID': '37', 'NOM_EV': 'Bois de Boulogne (rÃ©servoir de la grande cascade)'}\n",
      "{'GEOPOINT': '(48.8845880534, 2.34391859224)', 'ARRONDISSEMENT': '18', 'GENRE': 'Platanus', 'ESPECE': 'orientalis', 'FAMILLE': 'Platanaceae', 'ANNEE PLANTATION': '1857', 'HAUTEUR': '27.0', 'CIRCONFERENCE': '470.0', 'ADRESSE': 'Place Saint-Pierre, rue Ronsard, rue Paul-Albert, rue Maurice Utrillo', 'NOM COMMUN': \"Platane d'Orient\", 'VARIETE': '', 'OBJECTID': '42', 'NOM_EV': 'Square Louise Michel'}\n",
      "{'GEOPOINT': '(48.8830346813, 2.37007425143)', 'ARRONDISSEMENT': '19', 'GENRE': 'Tilia', 'ESPECE': 'tomentosa', 'FAMILLE': 'Malvaceae', 'ANNEE PLANTATION': '1945', 'HAUTEUR': '20.0', 'CIRCONFERENCE': '205.0', 'ADRESSE': 'Place Stalingrad', 'NOM COMMUN': 'Tilleul argentÃ©', 'VARIETE': '', 'OBJECTID': '43', 'NOM_EV': 'Place de la bataille de Stalingrad'}\n",
      "{'GEOPOINT': '(48.85646631, 2.39469777758)', 'ARRONDISSEMENT': '20', 'GENRE': 'Platanus', 'ESPECE': 'x acerifolia', 'FAMILLE': 'Platanaceae', 'ANNEE PLANTATION': '1880', 'HAUTEUR': '20.0', 'CIRCONFERENCE': '395.0', 'ADRESSE': '148 boulevard de Charonne', 'NOM COMMUN': 'Platane commun', 'VARIETE': '', 'OBJECTID': '51', 'NOM_EV': 'Alignement 148 boulevard de Charonne'}\n",
      "{'GEOPOINT': '(48.8471653404, 2.25199572129)', 'ARRONDISSEMENT': '16', 'GENRE': 'Pterocarya', 'ESPECE': 'stenoptera', 'FAMILLE': 'Juglandaceae', 'ANNEE PLANTATION': '1905', 'HAUTEUR': '30.0', 'CIRCONFERENCE': '530.0', 'ADRESSE': \"3 avenue de la Porte d'Auteuil, 1 avenue Gordon Benett\", 'NOM COMMUN': 'PtÃ©rocarya de Chine', 'VARIETE': '', 'OBJECTID': '54', 'NOM_EV': \"Jardin des Serres d'Auteuil\"}\n",
      "{'GEOPOINT': '(48.867221687, 2.27027693483)', 'ARRONDISSEMENT': '16', 'GENRE': 'Cedrus', 'ESPECE': 'atlantica', 'FAMILLE': 'Pinaceae', 'ANNEE PLANTATION': '', 'HAUTEUR': '6.0', 'CIRCONFERENCE': '195.0', 'ADRESSE': '', 'NOM COMMUN': \"CÃ¨dre bleu de l'Atlas ple\", 'VARIETE': 'Glauca pendula', 'OBJECTID': '62', 'NOM_EV': 'Square Debussy'}\n",
      "{'GEOPOINT': '(48.8731203887, 2.24884917245)', 'ARRONDISSEMENT': '16', 'GENRE': 'Fagus', 'ESPECE': 'sylvatica', 'FAMILLE': 'Fagaceae', 'ANNEE PLANTATION': '1868', 'HAUTEUR': '15.0', 'CIRCONFERENCE': '230.0', 'ADRESSE': 'AllÃ©e de Longchamp, route de SÃ¨vres Ã\\xa0 Neuilly', 'NOM COMMUN': 'HÃªtre pleureur', 'VARIETE': 'Pendula', 'OBJECTID': '70', 'NOM_EV': 'Bois de Boulogne (Bagatelle)'}\n",
      "{'GEOPOINT': '(48.8732545226, 2.24886543775)', 'ARRONDISSEMENT': '16', 'GENRE': 'Davidia', 'ESPECE': 'involucrata', 'FAMILLE': 'Cornaceae', 'ANNEE PLANTATION': '1906', 'HAUTEUR': '12.0', 'CIRCONFERENCE': '120.0', 'ADRESSE': 'AllÃ©e de Longchamp, route de SÃ¨vres Ã\\xa0 Neuilly', 'NOM COMMUN': 'Arbre aux pochettes', 'VARIETE': '', 'OBJECTID': '71', 'NOM_EV': 'Bois de Boulogne (Bagatelle)'}\n",
      "{'GEOPOINT': '(48.8433252639, 2.4497117757)', 'ARRONDISSEMENT': '12', 'GENRE': 'Quercus', 'ESPECE': 'petraea', 'FAMILLE': 'Fagaceae', 'ANNEE PLANTATION': '1815', 'HAUTEUR': '31.0', 'CIRCONFERENCE': '450.0', 'ADRESSE': '', 'NOM COMMUN': 'ChÃªne rouve', 'VARIETE': '', 'OBJECTID': '80', 'NOM_EV': 'Bois de Vincennes (fort neuf)'}\n",
      "{'GEOPOINT': '(48.8323806372, 2.41052012477)', 'ARRONDISSEMENT': '12', 'GENRE': 'Platanus', 'ESPECE': 'x acerifolia', 'FAMILLE': 'Platanaceae', 'ANNEE PLANTATION': '1860', 'HAUTEUR': '42.0', 'CIRCONFERENCE': '405.0', 'ADRESSE': 'Ile de Bercy', 'NOM COMMUN': 'Platane commun', 'VARIETE': '', 'OBJECTID': '90', 'NOM_EV': 'Bois de Vincennes (Ile de Bercy)'}\n",
      "{'GEOPOINT': '(48.8314334738, 2.4115101993)', 'ARRONDISSEMENT': '12', 'GENRE': 'Diospyros', 'ESPECE': 'virginiana', 'FAMILLE': 'Ebenaceae', 'ANNEE PLANTATION': '1935', 'HAUTEUR': '12.0', 'CIRCONFERENCE': '', 'ADRESSE': 'Ile de Bercy', 'NOM COMMUN': 'Plaqueminier de Virginie', 'VARIETE': '', 'OBJECTID': '93', 'NOM_EV': 'Bois de Vincennes (Ile de Bercy)'}\n",
      "{'GEOPOINT': '(48.8210086122, 2.45551492936)', 'ARRONDISSEMENT': '12', 'GENRE': 'Pinus', 'ESPECE': 'coulteri', 'FAMILLE': 'Pinaceae', 'ANNEE PLANTATION': '', 'HAUTEUR': '14.0', 'CIRCONFERENCE': '225.0', 'ADRESSE': 'Route de la Ferme, route de la Pyramide', 'NOM COMMUN': 'Pin aux grands cÃ´nes', 'VARIETE': '', 'OBJECTID': '96', 'NOM_EV': 'Arboretum Ecole du Breuil'}\n",
      "{'GEOPOINT': '(48.8785456147, 2.30757576047)', 'ARRONDISSEMENT': '8', 'GENRE': 'Platanus', 'ESPECE': 'orientalis', 'FAMILLE': 'Platanaceae', 'ANNEE PLANTATION': '1814', 'HAUTEUR': '31.0', 'CIRCONFERENCE': '700.0', 'ADRESSE': 'Boulevard de Courcelles, avenue Vâ€šlasquez, avenue Van-Dyck, avenue Ruysdael', 'NOM COMMUN': \"Platane d'Orient\", 'VARIETE': '', 'OBJECTID': '9', 'NOM_EV': 'Parc Monceau'}\n",
      "{'GEOPOINT': '(48.8652536076, 2.31333976248)', 'ARRONDISSEMENT': '8', 'GENRE': 'Platanus', 'ESPECE': 'orientalis', 'FAMILLE': 'Platanaceae', 'ANNEE PLANTATION': '1900', 'HAUTEUR': '20.0', 'CIRCONFERENCE': '480.0', 'ADRESSE': 'Cours-la-Reine, avenue Franklin-D.-Roosevelt, avenue Matignon, avenue Gabriel', 'NOM COMMUN': \"Platane d'Orient\", 'VARIETE': '', 'OBJECTID': '13', 'NOM_EV': 'Jardin des Champs ElysÃ©es'}\n",
      "{'GEOPOINT': '(48.8476260928, 2.25278179131)', 'ARRONDISSEMENT': '16', 'GENRE': 'Ginkgo', 'ESPECE': 'biloba', 'FAMILLE': 'Ginkgoaceae', 'ANNEE PLANTATION': '1895', 'HAUTEUR': '25.0', 'CIRCONFERENCE': '395.0', 'ADRESSE': \"3 avenue de la Porte d'Auteuil, 1 avenue Gordon Benett\", 'NOM COMMUN': 'Arbre aux quarante Ã©cus', 'VARIETE': '', 'OBJECTID': '31', 'NOM_EV': \"Jardin des Serres d'Auteuil\"}\n",
      "{'GEOPOINT': '(48.861574817, 2.2910717819)', 'ARRONDISSEMENT': '16', 'GENRE': 'Corylus', 'ESPECE': 'colurna', 'FAMILLE': 'Betulaceae', 'ANNEE PLANTATION': '', 'HAUTEUR': '20.0', 'CIRCONFERENCE': '260.0', 'ADRESSE': 'Place du Trocadâ€šro et du 11 Novembre, rue Benjamin Franklin, avenue Albert de Mun', 'NOM COMMUN': 'Noisetier de Byzance', 'VARIETE': '', 'OBJECTID': '34', 'NOM_EV': 'Jardin du TrocadÃ©ro'}\n",
      "{'GEOPOINT': '(48.8708601366, 2.24769299518)', 'ARRONDISSEMENT': '16', 'GENRE': 'Taxus', 'ESPECE': 'baccata', 'FAMILLE': 'Taxaceae', 'ANNEE PLANTATION': '1772', 'HAUTEUR': '13.0', 'CIRCONFERENCE': '235.0', 'ADRESSE': 'AllÃ©e de Longchamp, route de SÃ¨vres Ã\\xa0 Neuilly', 'NOM COMMUN': 'If commun', 'VARIETE': '', 'OBJECTID': '36', 'NOM_EV': 'Bois de Boulogne (Bagatelle)'}\n",
      "{'GEOPOINT': '(48.8646850734, 2.25360607406)', 'ARRONDISSEMENT': '16', 'GENRE': 'Fagus', 'ESPECE': 'sylvatica', 'FAMILLE': 'Fagaceae', 'ANNEE PLANTATION': '1782', 'HAUTEUR': '30.0', 'CIRCONFERENCE': '558.0', 'ADRESSE': 'Route de la Grande Cascade, carrefour de la Croix Catelan', 'NOM COMMUN': 'HÃªtre pourpre', 'VARIETE': 'Purpurea', 'OBJECTID': '38', 'NOM_EV': 'Bois de Boulogne (PrÃ© Catelan)'}\n",
      "{'GEOPOINT': '(48.8880577555, 2.31595908796)', 'ARRONDISSEMENT': '17', 'GENRE': 'Platanus', 'ESPECE': 'x acerifolia', 'FAMILLE': 'Platanaceae', 'ANNEE PLANTATION': '1840', 'HAUTEUR': '30.0', 'CIRCONFERENCE': '595.0', 'ADRESSE': 'Place Charles Filion, rue Cardinet', 'NOM COMMUN': 'Platane commun', 'VARIETE': '', 'OBJECTID': '41', 'NOM_EV': 'Square des Batignolles'}\n",
      "{'GEOPOINT': '(48.8597396934, 2.39997847741)', 'ARRONDISSEMENT': '20', 'GENRE': 'Aesculus', 'ESPECE': 'hippocastanum', 'FAMILLE': 'Sapindaceae', 'ANNEE PLANTATION': '', 'HAUTEUR': '22.0', 'CIRCONFERENCE': '345.0', 'ADRESSE': 'Rue du repos, rue des Rondeaux', 'NOM COMMUN': \"Marronnier d'Inde\", 'VARIETE': '', 'OBJECTID': '47', 'NOM_EV': 'CimetiÃ¨re du PÃ¨re Lachaise'}\n",
      "{'GEOPOINT': '(48.8622517606, 2.26098883991)', 'ARRONDISSEMENT': '16', 'GENRE': 'Ginkgo', 'ESPECE': 'biloba', 'FAMILLE': 'Ginkgoaceae', 'ANNEE PLANTATION': '1893', 'HAUTEUR': '18.0', 'CIRCONFERENCE': '215.0', 'ADRESSE': '', 'NOM COMMUN': 'Arbre aux quarante Ã©cus', 'VARIETE': '', 'OBJECTID': '64', 'NOM_EV': 'Bois de Boulogne (Berge du lac infÃ©rieur)'}\n",
      "{'GEOPOINT': '(48.8336849895, 2.42111102704)', 'ARRONDISSEMENT': '12', 'GENRE': 'Ginkgo', 'ESPECE': 'biloba', 'FAMILLE': 'Ginkgoaceae', 'ANNEE PLANTATION': '1865', 'HAUTEUR': '25.0', 'CIRCONFERENCE': '255.0', 'ADRESSE': '', 'NOM COMMUN': 'Arbre aux quarante Ã©cus', 'VARIETE': '', 'OBJECTID': '84', 'NOM_EV': \"Bois de Vincennes (Ecole chiens guide d'aveugle)\"}\n",
      "{'GEOPOINT': '(48.8648376291, 2.36062929978)', 'ARRONDISSEMENT': '3', 'GENRE': 'Corylus', 'ESPECE': 'colurna', 'FAMILLE': 'Betulaceae', 'ANNEE PLANTATION': '1882', 'HAUTEUR': '20.0', 'CIRCONFERENCE': '210.0', 'ADRESSE': 'Rue du Temple, rue de Bretagne, Rue PerrÃ©e, rue EugÃ¨ne-Spuller', 'NOM COMMUN': 'Noisetier de Byzance', 'VARIETE': '', 'OBJECTID': '1', 'NOM_EV': 'Square du Temple'}\n",
      "{'GEOPOINT': '(48.856902513, 2.33666989768)', 'ARRONDISSEMENT': '6', 'GENRE': 'Catalpa', 'ESPECE': 'bignonioides', 'FAMILLE': 'Bignoniaceae', 'ANNEE PLANTATION': '', 'HAUTEUR': '15.0', 'CIRCONFERENCE': '260.0', 'ADRESSE': 'Rue de Seine, rue Mazarine', 'NOM COMMUN': 'Catalpa commun', 'VARIETE': '', 'OBJECTID': '5', 'NOM_EV': 'Square Gabriel PiernÃ©'}\n",
      "{'GEOPOINT': '(48.8577766649, 2.29329076205)', 'ARRONDISSEMENT': '7', 'GENRE': 'Platanus', 'ESPECE': 'orientalis', 'FAMILLE': 'Platanaceae', 'ANNEE PLANTATION': '1814', 'HAUTEUR': '20.0', 'CIRCONFERENCE': '700.0', 'ADRESSE': 'Quai Branly, avenue de La Motte-Piquet, avenue de la Bourdonnais, avenue de Suffren', 'NOM COMMUN': \"Platane d'Orient\", 'VARIETE': '', 'OBJECTID': '8', 'NOM_EV': 'Parc du Champs de Mars'}\n",
      "{'GEOPOINT': '(48.8399672948, 2.43375148978)', 'ARRONDISSEMENT': '12', 'GENRE': 'Fagus', 'ESPECE': 'sylvatica', 'FAMILLE': 'Fagaceae', 'ANNEE PLANTATION': '1865', 'HAUTEUR': '20.0', 'CIRCONFERENCE': '530.0', 'ADRESSE': 'avenue Daumesnil, Esplanade du ChÃ¢teau de Vincennes', 'NOM COMMUN': 'HÃªtre pleureur', 'VARIETE': 'Pendula', 'OBJECTID': '20', 'NOM_EV': 'Bois de Vincennes (square Carnot)'}\n",
      "{'GEOPOINT': '(48.827737189, 2.3592096955)', 'ARRONDISSEMENT': '13', 'GENRE': 'Cedrus', 'ESPECE': 'atlantica', 'FAMILLE': 'Pinaceae', 'ANNEE PLANTATION': '1939', 'HAUTEUR': '25.0', 'CIRCONFERENCE': '350.0', 'ADRESSE': '128-160 avenue de Choisy, rue Georges-Eastman, rue Charles-Moureu, rue du Docteur-Magn', 'NOM COMMUN': \"CÃ¨dre bleu de l'Atlas\", 'VARIETE': 'Glauca', 'OBJECTID': '24', 'NOM_EV': 'Parc de Choisy'}\n",
      "{'GEOPOINT': '(48.8723867386, 2.27912885453)', 'ARRONDISSEMENT': '16', 'GENRE': 'Zelkova', 'ESPECE': 'carpinifolia', 'FAMILLE': 'Ulmaceae', 'ANNEE PLANTATION': '1852', 'HAUTEUR': '30.0', 'CIRCONFERENCE': '395.0', 'ADRESSE': 'Avenue Foch', 'NOM COMMUN': 'Faux orme de SibÃ©rie', 'VARIETE': '', 'OBJECTID': '29', 'NOM_EV': 'Avenue Foch'}\n",
      "{'GEOPOINT': '(48.8619170093, 2.2924448277)', 'ARRONDISSEMENT': '16', 'GENRE': 'Paulownia', 'ESPECE': 'tomentosa', 'FAMILLE': 'Paulowniaceae', 'ANNEE PLANTATION': '', 'HAUTEUR': '20.0', 'CIRCONFERENCE': '420.0', 'ADRESSE': 'Place du Trocadâ€šro et du 11 Novembre, rue Benjamin Franklin, avenue Albert de Mun', 'NOM COMMUN': 'Paulownia', 'VARIETE': '', 'OBJECTID': '35', 'NOM_EV': 'Jardin du TrocadÃ©ro'}\n",
      "{'GEOPOINT': '(48.8716117578, 2.24933653506)', 'ARRONDISSEMENT': '16', 'GENRE': 'Araucaria', 'ESPECE': 'araucana', 'FAMILLE': 'Araucariaceae', 'ANNEE PLANTATION': '1907', 'HAUTEUR': '9.0', 'CIRCONFERENCE': '140.0', 'ADRESSE': 'AllÃ©e de Longchamp, route de SÃ¨vres Ã\\xa0 Neuilly', 'NOM COMMUN': 'DÃ©sespoir du singe', 'VARIETE': '', 'OBJECTID': '39', 'NOM_EV': 'Bois de Boulogne (Bagatelle)'}\n",
      "{'GEOPOINT': '(48.8691433358, 2.24587597613)', 'ARRONDISSEMENT': '16', 'GENRE': 'Platanus', 'ESPECE': 'x acerifolia', 'FAMILLE': 'Platanaceae', 'ANNEE PLANTATION': '1847', 'HAUTEUR': '40.0', 'CIRCONFERENCE': '480.0', 'ADRESSE': 'AllÃ©e de Longchamp, route de SÃ¨vres Ã\\xa0 Neuilly', 'NOM COMMUN': 'Platane commun', 'VARIETE': '', 'OBJECTID': '40', 'NOM_EV': 'Bois de Boulogne (Bagatelle)'}\n",
      "{'GEOPOINT': '(48.8661956075, 2.26238964912)', 'ARRONDISSEMENT': '16', 'GENRE': 'Platanus', 'ESPECE': 'orientalis', 'FAMILLE': 'Platanaceae', 'ANNEE PLANTATION': '1859', 'HAUTEUR': '25.0', 'CIRCONFERENCE': '375.0', 'ADRESSE': 'Ile du lac infÃ©rieur', 'NOM COMMUN': \"Platane d'Orient\", 'VARIETE': '', 'OBJECTID': '49', 'NOM_EV': 'Bois de Boulogne (Ã®le du lac infÃ©rieur)'}\n",
      "{'GEOPOINT': '(48.8215800145, 2.45494779675)', 'ARRONDISSEMENT': '12', 'GENRE': 'Zelkova', 'ESPECE': 'carpinifolia', 'FAMILLE': 'Ulmaceae', 'ANNEE PLANTATION': '', 'HAUTEUR': '12.0', 'CIRCONFERENCE': '245.0', 'ADRESSE': 'Route de la Ferme, route de la Pyramide', 'NOM COMMUN': 'Faux orme de SibÃ©rie', 'VARIETE': '', 'OBJECTID': '50', 'NOM_EV': 'Arboretum de Ecole du Breuil'}\n",
      "{'GEOPOINT': '(48.8727584235, 2.2873548507)', 'ARRONDISSEMENT': '16', 'GENRE': 'Platanus', 'ESPECE': 'x acerifolia', 'FAMILLE': 'Platanaceae', 'ANNEE PLANTATION': '1852', 'HAUTEUR': '30.0', 'CIRCONFERENCE': '525.0', 'ADRESSE': 'Avenue Foch', 'NOM COMMUN': 'Platane commun', 'VARIETE': '', 'OBJECTID': '55', 'NOM_EV': 'Avenue Foch'}\n",
      "{'GEOPOINT': '(48.8588189763, 2.25832952119)', 'ARRONDISSEMENT': '16', 'GENRE': 'Magnolia', 'ESPECE': 'grandiflora', 'FAMILLE': 'Magnoliaceae', 'ANNEE PLANTATION': '1863', 'HAUTEUR': '12.0', 'CIRCONFERENCE': '', 'ADRESSE': 'AllÃ©e de Longchamp, carrefour des cascades', 'NOM COMMUN': 'Magnolia Ã\\xa0 grandes fleurs', 'VARIETE': '', 'OBJECTID': '66', 'NOM_EV': 'Bois de Boulogne (Berge du lac infÃ©rieur)'}\n",
      "{'GEOPOINT': '(48.86260617, 2.23782412563)', 'ARRONDISSEMENT': '16', 'GENRE': 'Zelkova', 'ESPECE': 'carpinifolia', 'FAMILLE': 'Ulmaceae', 'ANNEE PLANTATION': '1896', 'HAUTEUR': '16.0', 'CIRCONFERENCE': '260.0', 'ADRESSE': '', 'NOM COMMUN': 'Faux orme de SibÃ©rie', 'VARIETE': '', 'OBJECTID': '75', 'NOM_EV': 'Bois de Boulogne (Moulin de Longchamp)'}\n",
      "{'GEOPOINT': '(48.8395160905, 2.43350820893)', 'ARRONDISSEMENT': '12', 'GENRE': 'Platanus', 'ESPECE': 'x acerifolia', 'FAMILLE': 'Platanaceae', 'ANNEE PLANTATION': '1918', 'HAUTEUR': '32.0', 'CIRCONFERENCE': '570.0', 'ADRESSE': 'avenue Daumesnil, Esplanade du ChÃ¢teau de Vincennes', 'NOM COMMUN': 'Platane commun', 'VARIETE': '', 'OBJECTID': '82', 'NOM_EV': 'Bois de Vincennes (Square Carnot)'}\n",
      "{'GEOPOINT': '(48.833545551, 2.41033694606)', 'ARRONDISSEMENT': '12', 'GENRE': 'Platanus', 'ESPECE': 'orientalis', 'FAMILLE': 'Platanaceae', 'ANNEE PLANTATION': '1860', 'HAUTEUR': '22.0', 'CIRCONFERENCE': '475.0', 'ADRESSE': 'route de la ceinture du Lac Daumesnil', 'NOM COMMUN': \"Platane d'Orient\", 'VARIETE': '', 'OBJECTID': '86', 'NOM_EV': 'Bois de Vincennes (Lac Daumesnil/porte DorÃ©e)'}\n",
      "{'GEOPOINT': '(48.8302532096, 2.41400587444)', 'ARRONDISSEMENT': '12', 'GENRE': 'Acer', 'ESPECE': 'opalus', 'FAMILLE': 'Sapindaceae', 'ANNEE PLANTATION': '1870', 'HAUTEUR': '15.0', 'CIRCONFERENCE': '160.0', 'ADRESSE': 'Ile de Bercy', 'NOM COMMUN': \"Erable d'Italie\", 'VARIETE': '', 'OBJECTID': '91', 'NOM_EV': 'Bois de Vincennes (Ile de Bercy)'}\n"
     ]
    }
   ],
   "source": [
    "import pandas as pd\n",
    "\n",
    "chemin_fichier = r\"C:\\Users\\Catello\\Desktop\\IAMDA1\\NoSQL - Mr Chafik\\TP_Map-Reduce en Python\\arbres.csv\"\n",
    "\n",
    "with open(chemin_fichier) as entree:\n",
    "    noms = entree.readline().strip().split(';')\n",
    "    arbres = [dict(zip(noms, ligne.strip().split(';'))) for ligne in entree]\n",
    "\n",
    "for arbre in arbres:\n",
    "    print(arbre)    "
   ]
  },
  {
   "cell_type": "markdown",
   "id": "ce0d7582",
   "metadata": {},
   "source": [
    "### 6.1 Exercices sur le fichier CSV"
   ]
  },
  {
   "cell_type": "code",
   "execution_count": 60,
   "id": "a93817ae",
   "metadata": {},
   "outputs": [
    {
     "name": "stdout",
     "output_type": "stream",
     "text": [
      "[1935, 1854, 1862, 1906, 1784, 1860, 1840, 1933, None, 1913]\n"
     ]
    }
   ],
   "source": [
    "# a. Fonction get_annee\n",
    "def get_annee(arbre):\n",
    "    annee_plantation = arbre.get('ANNEE PLANTATION', None)\n",
    "    if annee_plantation:\n",
    "        return int(annee_plantation)\n",
    "    else:\n",
    "        return None\n",
    "\n",
    "annees_plantation = list(map(get_annee, arbres))\n",
    "print(annees_plantation[:10])"
   ]
  },
  {
   "cell_type": "code",
   "execution_count": 62,
   "id": "ac30c72d",
   "metadata": {},
   "outputs": [
    {
     "name": "stdout",
     "output_type": "stream",
     "text": [
      "[1784, 1601, 1772, 1782]\n"
     ]
    }
   ],
   "source": [
    "# b. Fonction est_vieil_arbre\n",
    "def est_vieil_arbre(arbre):\n",
    "    annee = get_annee(arbre)\n",
    "    return annee is not None and annee < 1800\n",
    "\n",
    "annees_vieilles_arbres = list(map(get_annee, filter(est_vieil_arbre, arbres)))\n",
    "print(annees_vieilles_arbres[:10])\n"
   ]
  },
  {
   "cell_type": "code",
   "execution_count": 63,
   "id": "577d482a",
   "metadata": {},
   "outputs": [
    {
     "name": "stdout",
     "output_type": "stream",
     "text": [
      "[None, None, None, None, None, None, None, None, None, None]\n"
     ]
    }
   ],
   "source": [
    "# c. Fonction get_hauteur\n",
    "def get_hauteur(arbre):\n",
    "    hauteur = arbre.get('HAUTEUR (m)', None)\n",
    "    if hauteur:\n",
    "        return float(hauteur)\n",
    "    else:\n",
    "        return None\n",
    "    \n",
    "hauteurs_arbres = list(map(get_hauteur, arbres))\n",
    "print(hauteurs_arbres[:10])\n"
   ]
  },
  {
   "cell_type": "markdown",
   "id": "c89e8dd0",
   "metadata": {},
   "source": [
    "### 7. Réduction"
   ]
  },
  {
   "cell_type": "code",
   "execution_count": 64,
   "id": "702180c2",
   "metadata": {},
   "outputs": [
    {
     "name": "stdout",
     "output_type": "stream",
     "text": [
      "La somme des éléments de la liste est : 15\n"
     ]
    }
   ],
   "source": [
    "from functools import reduce\n",
    "\n",
    "# Définition de la fonction somme\n",
    "def somme(a, b):\n",
    "    return a + b\n",
    "\n",
    "# Liste d'exemple\n",
    "liste = [1, 2, 3, 4, 5]\n",
    "\n",
    "# Calcul de la somme des éléments de la liste en utilisant reduce\n",
    "resultat_somme = reduce(somme, liste)\n",
    "print(\"La somme des éléments de la liste est :\", resultat_somme)\n"
   ]
  },
  {
   "cell_type": "code",
   "execution_count": 65,
   "id": "48655aae",
   "metadata": {},
   "outputs": [
    {
     "name": "stdout",
     "output_type": "stream",
     "text": [
      "Le plus grand arbre de la liste : {'GEOPOINT': '(48.857140829, 2.29533455314)', 'ARRONDISSEMENT': '7', 'GENRE': 'Maclura', 'ESPECE': 'pomifera', 'FAMILLE': 'Moraceae', 'ANNEE PLANTATION': '1935', 'HAUTEUR': '13.0', 'CIRCONFERENCE': '', 'ADRESSE': 'Quai Branly, avenue de La Motte-Piquet, avenue de la Bourdonnais, avenue de Suffren', 'NOM COMMUN': 'Oranger des Osages', 'VARIETE': '', 'OBJECTID': '6', 'NOM_EV': 'Parc du Champs de Mars'}\n"
     ]
    }
   ],
   "source": [
    "def max_arbres(arbre1, arbre2):\n",
    "    hauteur_arbre1 = arbre1.get('HAUTEUR (m)', 0)  # Si la hauteur n'est pas disponible, on utilise 0 par défaut\n",
    "    hauteur_arbre2 = arbre2.get('HAUTEUR (m)', 0)\n",
    "    return arbre1 if hauteur_arbre1 >= hauteur_arbre2 else arbre2\n",
    "\n",
    "plus_grand_arbre = reduce(max_arbres, arbres)\n",
    "print(\"Le plus grand arbre de la liste :\", plus_grand_arbre)\n"
   ]
  },
  {
   "cell_type": "code",
   "execution_count": 66,
   "id": "0d37445c",
   "metadata": {},
   "outputs": [
    {
     "name": "stdout",
     "output_type": "stream",
     "text": [
      "Moyenne des nombres : 6.4375\n"
     ]
    }
   ],
   "source": [
    "from functools import reduce\n",
    "\n",
    "def moyenne(a, b):\n",
    "    return (a + b) / 2\n",
    "\n",
    "nombres = [1, 3, 5, 4, 6, 8]\n",
    "\n",
    "try:\n",
    "    resultat = reduce(moyenne, nombres)\n",
    "    print(\"Moyenne des nombres :\", resultat)\n",
    "except TypeError:\n",
    "    print(\"La fonction moyenne n'est pas associative et ne peut pas être utilisée avec reduce.\")\n"
   ]
  },
  {
   "cell_type": "code",
   "execution_count": 67,
   "id": "f01478d5",
   "metadata": {},
   "outputs": [
    {
     "name": "stdout",
     "output_type": "stream",
     "text": [
      "[1.0, 1.0, 1.0, 1.0, 1.0, 1.0]\n",
      "[(1, 1.0), (3, 1.0), (5, 1.0), (4, 1.0), (6, 1.0), (8, 1.0)]\n"
     ]
    }
   ],
   "source": [
    "def moyenne_poids(couple1, couple2):\n",
    "    valeur1, poids1 = couple1\n",
    "    valeur2, poids2 = couple2\n",
    "    return (valeur1 + valeur2, poids1 + poids2)\n",
    "\n",
    "# Test pour comprendre le couple retourné par moyenne_poids\n",
    "nombres = [1, 3, 5, 4, 6, 8]\n",
    "print([1.0]*len(nombres))  # Affiche [1.0, 1.0, 1.0, 1.0, 1.0, 1.0]\n",
    "print(list(zip(nombres, [1.0]*len(nombres))))  # Affiche [(1, 1.0), (3, 1.0), (5, 1.0), (4, 1.0), (6, 1.0), (8, 1.0)]\n"
   ]
  }
 ],
 "metadata": {
  "kernelspec": {
   "display_name": "Python 3 (ipykernel)",
   "language": "python",
   "name": "python3"
  },
  "language_info": {
   "codemirror_mode": {
    "name": "ipython",
    "version": 3
   },
   "file_extension": ".py",
   "mimetype": "text/x-python",
   "name": "python",
   "nbconvert_exporter": "python",
   "pygments_lexer": "ipython3",
   "version": "3.9.13"
  }
 },
 "nbformat": 4,
 "nbformat_minor": 5
}
