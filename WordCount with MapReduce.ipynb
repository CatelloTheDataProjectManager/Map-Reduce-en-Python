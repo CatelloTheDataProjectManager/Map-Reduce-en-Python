{
 "cells": [
  {
   "cell_type": "markdown",
   "id": "607c4c3c",
   "metadata": {},
   "source": [
    "### Libraries"
   ]
  },
  {
   "cell_type": "code",
   "execution_count": 19,
   "id": "5ba8df76",
   "metadata": {},
   "outputs": [],
   "source": [
    "import functools"
   ]
  },
  {
   "cell_type": "markdown",
   "id": "26f36a46",
   "metadata": {},
   "source": [
    "#### Map function"
   ]
  },
  {
   "cell_type": "code",
   "execution_count": 20,
   "id": "b3eabb8e",
   "metadata": {},
   "outputs": [
    {
     "name": "stdout",
     "output_type": "stream",
     "text": [
      "de: 1\n",
      "exemple: 1\n",
      "texte.: 1\n",
      "est: 2\n",
      "autre: 1\n",
      "un: 2\n",
      "exemple.: 1\n",
      "ceci: 2\n"
     ]
    }
   ],
   "source": [
    "# Données d'exemple\n",
    "texte = \"Ceci est un exemple de texte. Ceci est un autre exemple.\"\n",
    "\n",
    "# Étape Map : Diviser le texte en mots et émettre chaque mot avec un compte de 1\n",
    "def mapper(texte):\n",
    "    mots = texte.split()\n",
    "    resultat = []\n",
    "    for mot in mots:\n",
    "        resultat.append((mot.lower(), 1))\n",
    "    return resultat\n",
    "\n",
    "# Étape Reduce : Combiner les comptes de mots\n",
    "def reducer(mot, comptes):\n",
    "    return mot, functools.reduce(lambda a, b: a + b, comptes)\n",
    "\n",
    "# Appel de la fonction MapReduce\n",
    "mots_groupes = functools.reduce(\n",
    "    lambda acc, kv: acc + [(kv[0], list(map(lambda x: x[1], kv[1])))] if kv[1] else acc,\n",
    "    map(lambda k: (k, list(filter(lambda kv: kv[0] == k, mapper(texte)))),\n",
    "        set(map(lambda kv: kv[0], mapper(texte)))),\n",
    "    []\n",
    ")\n",
    "resultats = list(map(lambda kv: reducer(kv[0], kv[1]), mots_groupes))\n",
    "\n",
    "# Affichage des résultats\n",
    "for mot, compte in resultats:\n",
    "    print(f\"{mot}: {compte}\")\n"
   ]
  }
 ],
 "metadata": {
  "kernelspec": {
   "display_name": "Python 3 (ipykernel)",
   "language": "python",
   "name": "python3"
  },
  "language_info": {
   "codemirror_mode": {
    "name": "ipython",
    "version": 3
   },
   "file_extension": ".py",
   "mimetype": "text/x-python",
   "name": "python",
   "nbconvert_exporter": "python",
   "pygments_lexer": "ipython3",
   "version": "3.9.13"
  }
 },
 "nbformat": 4,
 "nbformat_minor": 5
}
